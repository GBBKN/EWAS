{
 "nbformat": 4,
 "nbformat_minor": 2,
 "metadata": {
  "language_info": {
   "name": "python",
   "codemirror_mode": {
    "name": "ipython",
    "version": 3
   },
   "version": "3.7.4-final"
  },
  "orig_nbformat": 2,
  "file_extension": ".py",
  "mimetype": "text/x-python",
  "name": "python",
  "npconvert_exporter": "python",
  "pygments_lexer": "ipython3",
  "version": 3,
  "kernelspec": {
   "name": "python37464bitbaseconda6408835141cb496798443c078bdf1c92",
   "display_name": "Python 3.7.4 64-bit ('base': conda)"
  }
 },
 "cells": [
  {
   "cell_type": "code",
   "execution_count": 1,
   "metadata": {},
   "outputs": [],
   "source": [
    "# import pyarrow as pa\n",
    "# import pyarrow.parquet as pq\n",
    "import numpy as np\n",
    "import pandas as pd"
   ]
  },
  {
   "cell_type": "code",
   "execution_count": 3,
   "metadata": {},
   "outputs": [
    {
     "data": {
      "text/plain": "(60745, 15)"
     },
     "execution_count": 3,
     "metadata": {},
     "output_type": "execute_result"
    }
   ],
   "source": [
    "# read sample data as pandas DataFrame\n",
    "df = pd.read_csv('./sample_data.csv')\n",
    "df.shape"
   ]
  },
  {
   "cell_type": "code",
   "execution_count": 4,
   "metadata": {},
   "outputs": [
    {
     "data": {
      "text/html": "<div>\n<style scoped>\n    .dataframe tbody tr th:only-of-type {\n        vertical-align: middle;\n    }\n\n    .dataframe tbody tr th {\n        vertical-align: top;\n    }\n\n    .dataframe thead th {\n        text-align: right;\n    }\n</style>\n<table border=\"1\" class=\"dataframe\">\n  <thead>\n    <tr style=\"text-align: right;\">\n      <th></th>\n      <th>Unnamed: 0</th>\n      <th>key</th>\n      <th>surtUrl</th>\n      <th>timestamp</th>\n      <th>originalUrl</th>\n      <th>mime</th>\n      <th>status</th>\n      <th>digest</th>\n      <th>redirectUrl</th>\n      <th>meta</th>\n      <th>contentLength</th>\n      <th>offset</th>\n      <th>filename</th>\n      <th>allheader</th>\n      <th>payload</th>\n    </tr>\n  </thead>\n  <tbody>\n    <tr>\n      <td>0</td>\n      <td>0</td>\n      <td>http://(cf,017uk,)/2015/07/843CC-MAIN-20160524...</td>\n      <td>http://(cf,017uk,)/2015/07/</td>\n      <td>20160524</td>\n      <td>http://017uk.cf/2015/07/</td>\n      <td>text/html</td>\n      <td>200</td>\n      <td>-</td>\n      <td>-</td>\n      <td>-</td>\n      <td>13845</td>\n      <td>843</td>\n      <td>CC-MAIN-20160524002110-00006-ip-10-185-217-139...</td>\n      <td>sha1:C3HOUQSBVJGQ7FCBC3RGADSVWNLSSBTU\\n141.8.2...</td>\n      <td>HTTP/1.1 200 OK\\r\\nContent-Length: 13177\\r\\nX-...</td>\n    </tr>\n    <tr>\n      <td>1</td>\n      <td>1</td>\n      <td>http://(menu,1000,)/catalog/pasternak8011CC-MA...</td>\n      <td>http://(menu,1000,)/catalog/pasternak</td>\n      <td>20160524</td>\n      <td>http://1000.menu/catalog/pasternak</td>\n      <td>text/html</td>\n      <td>200</td>\n      <td>-</td>\n      <td>-</td>\n      <td>-</td>\n      <td>53972</td>\n      <td>8011</td>\n      <td>CC-MAIN-20160524002110-00006-ip-10-185-217-139...</td>\n      <td>sha1:MRPM2HWARGPKMHKXBFUGADW5PI662KUI\\n176.9.2...</td>\n      <td>HTTP/1.1 200 OK\\r\\nServer: nginx\\r\\nDate: Tue,...</td>\n    </tr>\n    <tr>\n      <td>2</td>\n      <td>2</td>\n      <td>http://(com,show758,1007,)/22358CC-MAIN-201605...</td>\n      <td>http://(com,show758,1007,)/</td>\n      <td>20160524</td>\n      <td>http://1007.show758.com/</td>\n      <td>text/html</td>\n      <td>200</td>\n      <td>-</td>\n      <td>-</td>\n      <td>-</td>\n      <td>6037</td>\n      <td>22358</td>\n      <td>CC-MAIN-20160524002110-00006-ip-10-185-217-139...</td>\n      <td>sha1:JHG77QCSMQGOFCGEPWJODKVWG2L4GUW4\\n220.228...</td>\n      <td>HTTP/1.1 200 OK\\r\\nDate: Tue, 24 May 2016 05:5...</td>\n    </tr>\n    <tr>\n      <td>3</td>\n      <td>3</td>\n      <td>http://(com,msn,r,1008643,)/?ld=dvqpxauux-lokv...</td>\n      <td>http://(com,msn,r,1008643,)/?ld=dvqpxauux-lokv...</td>\n      <td>20160524</td>\n      <td>http://1008643.r.msn.com/?ld=DvQPxAuuX-lOKv4Uv...</td>\n      <td>unknown</td>\n      <td>200</td>\n      <td>-</td>\n      <td>-</td>\n      <td>-</td>\n      <td>173</td>\n      <td>25991</td>\n      <td>CC-MAIN-20160524002110-00006-ip-10-185-217-139...</td>\n      <td>sha1:3I42H3S6NNFQ2MSVX7XZKYAYSCX5QBYJ\\n65.52.1...</td>\n      <td>HTTP/1.1 200 OK\\r\\nServer: Microsoft-IIS/8.0\\r...</td>\n    </tr>\n    <tr>\n      <td>4</td>\n      <td>4</td>\n      <td>http://(com,cbslocal,1019ampradio,)/tag/johnny...</td>\n      <td>http://(com,cbslocal,1019ampradio,)/tag/johnny...</td>\n      <td>20160524</td>\n      <td>http://1019ampradio.cbslocal.com/tag/johnny-gi...</td>\n      <td>text/html</td>\n      <td>200</td>\n      <td>-</td>\n      <td>-</td>\n      <td>-</td>\n      <td>59295</td>\n      <td>27576</td>\n      <td>CC-MAIN-20160524002110-00006-ip-10-185-217-139...</td>\n      <td>sha1:UA5QTBFGQGLB5XUAZE4V6TPXLBTXLQ3R\\n192.0.7...</td>\n      <td>HTTP/1.1 200 OK\\r\\nX-ac: 4.dca _dca\\r\\nX-hacke...</td>\n    </tr>\n  </tbody>\n</table>\n</div>",
      "text/plain": "   Unnamed: 0                                                key  \\\n0           0  http://(cf,017uk,)/2015/07/843CC-MAIN-20160524...   \n1           1  http://(menu,1000,)/catalog/pasternak8011CC-MA...   \n2           2  http://(com,show758,1007,)/22358CC-MAIN-201605...   \n3           3  http://(com,msn,r,1008643,)/?ld=dvqpxauux-lokv...   \n4           4  http://(com,cbslocal,1019ampradio,)/tag/johnny...   \n\n                                             surtUrl  timestamp  \\\n0                        http://(cf,017uk,)/2015/07/   20160524   \n1              http://(menu,1000,)/catalog/pasternak   20160524   \n2                        http://(com,show758,1007,)/   20160524   \n3  http://(com,msn,r,1008643,)/?ld=dvqpxauux-lokv...   20160524   \n4  http://(com,cbslocal,1019ampradio,)/tag/johnny...   20160524   \n\n                                         originalUrl       mime  status  \\\n0                           http://017uk.cf/2015/07/  text/html     200   \n1                 http://1000.menu/catalog/pasternak  text/html     200   \n2                           http://1007.show758.com/  text/html     200   \n3  http://1008643.r.msn.com/?ld=DvQPxAuuX-lOKv4Uv...    unknown     200   \n4  http://1019ampradio.cbslocal.com/tag/johnny-gi...  text/html     200   \n\n  digest redirectUrl meta  contentLength  offset  \\\n0      -           -    -          13845     843   \n1      -           -    -          53972    8011   \n2      -           -    -           6037   22358   \n3      -           -    -            173   25991   \n4      -           -    -          59295   27576   \n\n                                            filename  \\\n0  CC-MAIN-20160524002110-00006-ip-10-185-217-139...   \n1  CC-MAIN-20160524002110-00006-ip-10-185-217-139...   \n2  CC-MAIN-20160524002110-00006-ip-10-185-217-139...   \n3  CC-MAIN-20160524002110-00006-ip-10-185-217-139...   \n4  CC-MAIN-20160524002110-00006-ip-10-185-217-139...   \n\n                                           allheader  \\\n0  sha1:C3HOUQSBVJGQ7FCBC3RGADSVWNLSSBTU\\n141.8.2...   \n1  sha1:MRPM2HWARGPKMHKXBFUGADW5PI662KUI\\n176.9.2...   \n2  sha1:JHG77QCSMQGOFCGEPWJODKVWG2L4GUW4\\n220.228...   \n3  sha1:3I42H3S6NNFQ2MSVX7XZKYAYSCX5QBYJ\\n65.52.1...   \n4  sha1:UA5QTBFGQGLB5XUAZE4V6TPXLBTXLQ3R\\n192.0.7...   \n\n                                             payload  \n0  HTTP/1.1 200 OK\\r\\nContent-Length: 13177\\r\\nX-...  \n1  HTTP/1.1 200 OK\\r\\nServer: nginx\\r\\nDate: Tue,...  \n2  HTTP/1.1 200 OK\\r\\nDate: Tue, 24 May 2016 05:5...  \n3  HTTP/1.1 200 OK\\r\\nServer: Microsoft-IIS/8.0\\r...  \n4  HTTP/1.1 200 OK\\r\\nX-ac: 4.dca _dca\\r\\nX-hacke...  "
     },
     "execution_count": 4,
     "metadata": {},
     "output_type": "execute_result"
    }
   ],
   "source": [
    "df.head()"
   ]
  },
  {
   "cell_type": "code",
   "execution_count": 11,
   "metadata": {},
   "outputs": [],
   "source": [
    "origin = df.originalUrl.to_frame()\n",
    "origin.head()\n",
    "origin.to_csv('./original_url.csv', index=False, header=False)"
   ]
  },
  {
   "cell_type": "code",
   "execution_count": null,
   "metadata": {},
   "outputs": [],
   "source": [
    "res = df[['originalUrl', 'surtUrl']]\n",
    "res.head()\n",
    "res.to_csv('../Data/origin_surt_url.csv', index=False, header=False)\n"
   ]
  }
 ]
}
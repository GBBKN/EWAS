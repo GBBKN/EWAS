{
 "cells": [
  {
   "cell_type": "code",
   "execution_count": 19,
   "metadata": {},
   "outputs": [
    {
     "data": {
      "text/html": [
       "<div>\n",
       "<style scoped>\n",
       "    .dataframe tbody tr th:only-of-type {\n",
       "        vertical-align: middle;\n",
       "    }\n",
       "\n",
       "    .dataframe tbody tr th {\n",
       "        vertical-align: top;\n",
       "    }\n",
       "\n",
       "    .dataframe thead th {\n",
       "        text-align: right;\n",
       "    }\n",
       "</style>\n",
       "<table border=\"1\" class=\"dataframe\">\n",
       "  <thead>\n",
       "    <tr style=\"text-align: right;\">\n",
       "      <th></th>\n",
       "      <th>normal_url</th>\n",
       "      <th>bit32</th>\n",
       "      <th>bit64</th>\n",
       "      <th>bit128</th>\n",
       "    </tr>\n",
       "    <tr>\n",
       "      <th>indexname</th>\n",
       "      <th></th>\n",
       "      <th></th>\n",
       "      <th></th>\n",
       "      <th></th>\n",
       "    </tr>\n",
       "  </thead>\n",
       "  <tbody>\n",
       "    <tr>\n",
       "      <td>originalUrl</td>\n",
       "      <td>0.006836</td>\n",
       "      <td>NaN</td>\n",
       "      <td>NaN</td>\n",
       "      <td>NaN</td>\n",
       "    </tr>\n",
       "    <tr>\n",
       "      <td>cityhash</td>\n",
       "      <td>NaN</td>\n",
       "      <td>0.005475</td>\n",
       "      <td>0.006609</td>\n",
       "      <td>NaN</td>\n",
       "    </tr>\n",
       "    <tr>\n",
       "      <td>spookyHash</td>\n",
       "      <td>NaN</td>\n",
       "      <td>0.005549</td>\n",
       "      <td>0.006170</td>\n",
       "      <td>0.006443</td>\n",
       "    </tr>\n",
       "    <tr>\n",
       "      <td>xxhash3264</td>\n",
       "      <td>NaN</td>\n",
       "      <td>0.006986</td>\n",
       "      <td>0.008734</td>\n",
       "      <td>NaN</td>\n",
       "    </tr>\n",
       "    <tr>\n",
       "      <td>simplehash</td>\n",
       "      <td>0.008921</td>\n",
       "      <td>NaN</td>\n",
       "      <td>NaN</td>\n",
       "      <td>NaN</td>\n",
       "    </tr>\n",
       "  </tbody>\n",
       "</table>\n",
       "</div>"
      ],
      "text/plain": [
       "             normal_url     bit32     bit64    bit128\n",
       "indexname                                            \n",
       "originalUrl    0.006836       NaN       NaN       NaN\n",
       "cityhash            NaN  0.005475  0.006609       NaN\n",
       "spookyHash          NaN  0.005549  0.006170  0.006443\n",
       "xxhash3264          NaN  0.006986  0.008734       NaN\n",
       "simplehash     0.008921       NaN       NaN       NaN"
      ]
     },
     "execution_count": 19,
     "metadata": {},
     "output_type": "execute_result"
    }
   ],
   "source": [
    "import pandas\n",
    "resultdata = pandas.read_excel('EWAS_Testing.xlsx', index_col=0, names=[\"indexname\", \"normal_url\", \"bit32\", \"bit64\", \"bit128\"]) \n",
    "resultdata = resultdata[3:].reindex([\"originalUrl\", \"cityhash\", \"spookyHash\", \"xxhash3264\", \"simplehash\"])\n",
    "resultdata"
   ]
  },
  {
   "cell_type": "code",
   "execution_count": 53,
   "metadata": {},
   "outputs": [
    {
     "data": {
      "image/png": "[encoded data removed]",
      "text/plain": [
       "<Figure size 864x432 with 1 Axes>"
      ]
     },
     "metadata": {
      "needs_background": "light"
     },
     "output_type": "display_data"
    }
   ],
   "source": [
    "import matplotlib.pyplot as plt\n",
    "fig = plt.figure(figsize=(12,6))\n",
    "font = {'size' : 11}\n",
    "plt.rc('font', **font)\n",
    "ax = fig.add_axes([0,0,1,1])\n",
    "plt.xlabel('Different type of hashing algorithm')\n",
    "plt.title(\"Orginal URL vs. Different type of hashing algorithm\")\n",
    "plt.ylabel('Average time to process one URL')\n",
    "hashalgori = ['Original', 'CityHash 32', 'CityHash 64', 'SpookyHash 32', 'SpookyHash 64', 'SpookyHash 128', \"XXHash 32\", \"XXHash 64\", \"SimpleHash\"]\n",
    "timecost = [0.006836, 0.005475, 0.006609, 0.005549, 0.006170, 0.006443, 0.006986, 0.008734, 0.008921]\n",
    "ax.bar(hashalgori,timecost, width = 0.5)\n",
    "plt.savefig('original_vs_spookyhashall.png')"
   ]
  },
  {
   "cell_type": "code",
   "execution_count": null,
   "metadata": {},
   "outputs": [],
   "source": []
  }
 ],
 "metadata": {
  "kernelspec": {
   "display_name": "Python 3",
   "language": "python",
   "name": "python3"
  },
  "language_info": {
   "codemirror_mode": {
    "name": "ipython",
    "version": 3
   },
   "file_extension": ".py",
   "mimetype": "text/x-python",
   "name": "python",
   "nbconvert_exporter": "python",
   "pygments_lexer": "ipython3",
   "version": "3.7.4"
  }
 },
 "nbformat": 4,
 "nbformat_minor": 2
}
